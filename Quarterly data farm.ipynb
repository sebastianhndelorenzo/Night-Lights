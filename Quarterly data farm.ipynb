{
 "cells": [
  {
   "cell_type": "code",
   "execution_count": 29,
   "id": "839793ec",
   "metadata": {},
   "outputs": [],
   "source": [
    "import geemap, ee\n",
    "import seaborn as sns\n",
    "import matplotlib.pyplot as plt\n",
    "ee.Initialize()\n",
    "\n",
    "#Imports annual composites for Europe & Asia\n",
    "vcm_orm_ntl_2015_asia = ee.Image.loadGeoTIFF(\"gs://2015_composite_asia/SVDNB_npp_20150101-20151231_75N060E_vcm-orm-ntl_v10_c201701311200.avg_rade9-COG.tif\")\n",
    "vcm_orm_ntl_2016_asia = ee.Image.loadGeoTIFF(\"gs://2016_composite_asia/SVDNB_npp_20160101-20161231_75N060E_vcm-orm-ntl_v10_c201807311200.avg_rade9-COG.tif\")\n",
    "vcm_orm_ntl_2015_europe = ee.Image.loadGeoTIFF(\"gs://2015_composite_europe/SVDNB_npp_20150101-20151231_75N060W_vcm-orm-ntl_v10_c201701311200.avg_rade9-COG.tif\")\n",
    "vcm_orm_ntl_2016_europe = ee.Image.loadGeoTIFF(\"gs://2016_composite_europe/SVDNB_npp_20160101-20161231_75N060W_vcm-orm-ntl_v10_c201807311200.avg_rade9-COG.tif\")\n",
    "\n",
    "continent_collection_2015 = ee.ImageCollection([vcm_orm_ntl_2015_asia, vcm_orm_ntl_2015_europe])\n",
    "continent_collection_2016 = ee.ImageCollection([vcm_orm_ntl_2016_asia, vcm_orm_ntl_2016_europe])\n",
    "\n",
    "mosaic_2015 = continent_collection_2015.mosaic()\n",
    "mosaic_2016 = continent_collection_2016.mosaic()\n",
    "\n",
    "eog_mask = mosaic_2015.add(mosaic_2016)\n",
    "eog_mask = eog_mask.mask(eog_mask)\n",
    "\n",
    "vis_params = {\n",
    "    'min':0,\n",
    "    'max':60,\n",
    "    'palette': ['380245', '23678b', '21908c', '39b185', 'fde725'],\n",
    "    'opacity': 0.75\n",
    "}\n",
    "\n",
    "turkey = ee.FeatureCollection(\"FAO/GAUL/2015/level0\") \\\n",
    "            .filter(ee.Filter.eq('ADM0_NAME', 'Turkey'))\n",
    "japan = ee.FeatureCollection(\"FAO/GAUL/2015/level0\") \\\n",
    "            .filter(ee.Filter.eq('ADM0_NAME', 'Japan'))\n",
    "uk = ee.FeatureCollection(\"FAO/GAUL/2015/level0\") \\\n",
    "            .filter(ee.Filter.eq('ADM0_NAME', 'U.K. of Great Britain and Northern Ireland'))\n",
    "russia = ee.FeatureCollection(\"FAO/GAUL/2015/level0\") \\\n",
    "            .filter(ee.Filter.eq('ADM0_NAME', 'Russian Federation'))\n",
    "mexico = ee.FeatureCollection(\"FAO/GAUL/2015/level0\") \\\n",
    "            .filter(ee.Filter.eq('ADM0_NAME', 'Mexico')) #NOT IN EOG MASK\n",
    "bulgaria = ee.FeatureCollection(\"FAO/GAUL/2015/level0\") \\\n",
    "            .filter(ee.Filter.eq('ADM0_NAME', 'Bulgaria'))"
   ]
  },
  {
   "cell_type": "code",
   "execution_count": 30,
   "id": "9d476970",
   "metadata": {},
   "outputs": [],
   "source": [
    "regionBeingAnalyzed = bulgaria\n",
    "\n",
    "def print_mean_SOL(geemap_image):\n",
    "    mean_SOL = geemap_image.reduceRegion(\n",
    "                    reducer = ee.Reducer.mean(), \n",
    "                    geometry = regionBeingAnalyzed.geometry(),\n",
    "                    scale = 500,\n",
    "                    maxPixels = 1e11)\n",
    "    for k, v in mean_SOL.getInfo().items():\n",
    "        print(v)\n",
    "        \n",
    "def mask_quality(image):\n",
    "    quality_mask = image.select('Mandatory_Quality_Flag').lte(0)\n",
    "    #cloud_mask = image.select(\"QF_Cloud_Mask\").lte(1000)\n",
    "    #combined_mask = quality_mask.And(cloud_mask)\n",
    "    return image.updateMask(quality_mask)\n",
    "\n",
    "dates = [\n",
    "#                 \"2012-05-15\", \"2012-08-15\",\"2012-11-15\",\n",
    "#    \"2013-02-15\",\"2013-05-15\", \"2013-08-15\",\"2013-11-15\",\n",
    "    \"2014-02-15\",\"2014-05-15\", \"2014-08-15\",\"2014-11-15\",\n",
    "    \"2015-02-15\",\"2015-05-15\", \"2015-08-15\",\"2015-11-15\",\n",
    "    \"2016-02-15\",\"2016-05-15\", \"2016-08-15\",\"2016-11-15\",\n",
    "    \"2017-02-15\",\"2017-05-15\", \"2017-08-15\",\"2017-11-15\",\n",
    "    \"2018-02-15\",\"2018-05-15\", \"2018-08-15\",\"2018-11-15\",\n",
    "    \"2019-02-15\",\"2019-05-15\", \"2019-08-15\",\"2019-11-15\",\n",
    "    \"2020-02-15\",\"2020-05-15\", \"2020-08-15\"\n",
    "]"
   ]
  },
  {
   "cell_type": "code",
   "execution_count": null,
   "id": "0080a317",
   "metadata": {},
   "outputs": [],
   "source": []
  },
  {
   "cell_type": "code",
   "execution_count": null,
   "id": "ab7cded0",
   "metadata": {},
   "outputs": [],
   "source": []
  },
  {
   "cell_type": "code",
   "execution_count": null,
   "id": "dec194fa",
   "metadata": {},
   "outputs": [],
   "source": []
  },
  {
   "cell_type": "code",
   "execution_count": null,
   "id": "16029486",
   "metadata": {},
   "outputs": [],
   "source": []
  },
  {
   "cell_type": "code",
   "execution_count": 31,
   "id": "9f25c34b",
   "metadata": {
    "scrolled": false
   },
   "outputs": [
    {
     "name": "stdout",
     "output_type": "stream",
     "text": [
      "0.7803949018515801\n",
      "0.7309423903016745\n",
      "0.7652237725457317\n",
      "1.0070248499495746\n",
      "0.7441530969498965\n",
      "0.7437938839729927\n",
      "0.747802651861295\n",
      "0.7626885096666323\n",
      "0.7123542904457996\n",
      "0.7650444499958857\n",
      "0.7074139340093014\n",
      "0.958498313626562\n",
      "0.7800618410808882\n",
      "0.7362930325540035\n",
      "0.7509500852931029\n",
      "0.8289018015540773\n",
      "0.7551300840641756\n",
      "0.7479159690899001\n",
      "0.685283100030367\n",
      "0.8463036288647228\n",
      "0.7200070170767042\n",
      "0.6683217755862845\n",
      "0.7397838859003165\n",
      "0.7600115525338207\n",
      "0.5546695484839939\n",
      "0.556701951846144\n",
      "done\n"
     ]
    }
   ],
   "source": [
    "#                        .map(mask_quality) \\\n",
    "#                        .mask(eog_mask)\n",
    "for i in range (len(dates)-1):\n",
    "    viirs = ee.ImageCollection(\"NOAA/VIIRS/001/VNP46A2\") \\\n",
    "                        .filterDate(dates[i], dates[i+1]) \\\n",
    "                        .select('DNB_BRDF_Corrected_NTL') \\\n",
    "                        .median()\n",
    "    print_mean_SOL(viirs)\n",
    "print('done')"
   ]
  },
  {
   "cell_type": "code",
   "execution_count": null,
   "id": "8fb02b52",
   "metadata": {},
   "outputs": [],
   "source": []
  },
  {
   "cell_type": "code",
   "execution_count": null,
   "id": "bd52f090",
   "metadata": {},
   "outputs": [],
   "source": []
  },
  {
   "cell_type": "code",
   "execution_count": null,
   "id": "93d98c7a",
   "metadata": {},
   "outputs": [],
   "source": []
  },
  {
   "cell_type": "code",
   "execution_count": null,
   "id": "821aa8f2",
   "metadata": {},
   "outputs": [],
   "source": []
  },
  {
   "cell_type": "code",
   "execution_count": null,
   "id": "bebef059",
   "metadata": {},
   "outputs": [],
   "source": []
  },
  {
   "cell_type": "code",
   "execution_count": null,
   "id": "c20dad02",
   "metadata": {},
   "outputs": [],
   "source": []
  },
  {
   "cell_type": "code",
   "execution_count": null,
   "id": "a06df959",
   "metadata": {},
   "outputs": [],
   "source": []
  },
  {
   "cell_type": "code",
   "execution_count": null,
   "id": "15fcd2c8",
   "metadata": {},
   "outputs": [],
   "source": []
  },
  {
   "cell_type": "code",
   "execution_count": null,
   "id": "d3d37632",
   "metadata": {},
   "outputs": [],
   "source": []
  },
  {
   "cell_type": "code",
   "execution_count": null,
   "id": "3f05cb98",
   "metadata": {},
   "outputs": [],
   "source": []
  },
  {
   "cell_type": "code",
   "execution_count": null,
   "id": "bb06696e",
   "metadata": {},
   "outputs": [],
   "source": []
  },
  {
   "cell_type": "code",
   "execution_count": null,
   "id": "97f4c858",
   "metadata": {},
   "outputs": [],
   "source": []
  },
  {
   "cell_type": "code",
   "execution_count": null,
   "id": "0ee28dff",
   "metadata": {},
   "outputs": [],
   "source": []
  },
  {
   "cell_type": "code",
   "execution_count": null,
   "id": "12e251e0",
   "metadata": {},
   "outputs": [],
   "source": []
  },
  {
   "cell_type": "code",
   "execution_count": null,
   "id": "8277d1f1",
   "metadata": {},
   "outputs": [],
   "source": []
  },
  {
   "cell_type": "code",
   "execution_count": null,
   "id": "b47ce88d",
   "metadata": {},
   "outputs": [],
   "source": []
  },
  {
   "cell_type": "code",
   "execution_count": null,
   "id": "bd232d0a",
   "metadata": {},
   "outputs": [],
   "source": []
  },
  {
   "cell_type": "code",
   "execution_count": null,
   "id": "15014f75",
   "metadata": {},
   "outputs": [],
   "source": []
  },
  {
   "cell_type": "code",
   "execution_count": null,
   "id": "414f2688",
   "metadata": {},
   "outputs": [],
   "source": []
  },
  {
   "cell_type": "code",
   "execution_count": null,
   "id": "15d736d8",
   "metadata": {},
   "outputs": [],
   "source": []
  },
  {
   "cell_type": "code",
   "execution_count": null,
   "id": "7138fdb2",
   "metadata": {},
   "outputs": [],
   "source": []
  },
  {
   "cell_type": "code",
   "execution_count": null,
   "id": "85643af7",
   "metadata": {},
   "outputs": [],
   "source": []
  },
  {
   "cell_type": "code",
   "execution_count": null,
   "id": "9267e6c1",
   "metadata": {},
   "outputs": [],
   "source": []
  },
  {
   "cell_type": "code",
   "execution_count": null,
   "id": "e425a9d3",
   "metadata": {},
   "outputs": [],
   "source": []
  },
  {
   "cell_type": "code",
   "execution_count": null,
   "id": "502ebe3b",
   "metadata": {},
   "outputs": [],
   "source": []
  },
  {
   "cell_type": "code",
   "execution_count": null,
   "id": "5fa51d44",
   "metadata": {},
   "outputs": [],
   "source": []
  },
  {
   "cell_type": "code",
   "execution_count": null,
   "id": "43b9089e",
   "metadata": {},
   "outputs": [],
   "source": []
  },
  {
   "cell_type": "code",
   "execution_count": null,
   "id": "e1b92d21",
   "metadata": {},
   "outputs": [],
   "source": []
  },
  {
   "cell_type": "code",
   "execution_count": null,
   "id": "048cd34f",
   "metadata": {},
   "outputs": [],
   "source": []
  },
  {
   "cell_type": "code",
   "execution_count": null,
   "id": "2515261d",
   "metadata": {},
   "outputs": [],
   "source": []
  },
  {
   "cell_type": "code",
   "execution_count": null,
   "id": "8c83b6e5",
   "metadata": {},
   "outputs": [],
   "source": []
  },
  {
   "cell_type": "code",
   "execution_count": null,
   "id": "d9d9a24b",
   "metadata": {},
   "outputs": [],
   "source": []
  },
  {
   "cell_type": "code",
   "execution_count": null,
   "id": "d815f628",
   "metadata": {},
   "outputs": [],
   "source": []
  },
  {
   "cell_type": "code",
   "execution_count": null,
   "id": "31cf1c8a",
   "metadata": {},
   "outputs": [],
   "source": [
    "    "
   ]
  },
  {
   "cell_type": "code",
   "execution_count": null,
   "id": "4353768e",
   "metadata": {},
   "outputs": [],
   "source": []
  },
  {
   "cell_type": "code",
   "execution_count": null,
   "id": "19fab57d",
   "metadata": {},
   "outputs": [],
   "source": []
  },
  {
   "cell_type": "code",
   "execution_count": null,
   "id": "31bb9ae4",
   "metadata": {},
   "outputs": [],
   "source": []
  },
  {
   "cell_type": "code",
   "execution_count": null,
   "id": "873c1247",
   "metadata": {},
   "outputs": [],
   "source": []
  },
  {
   "cell_type": "code",
   "execution_count": null,
   "id": "e501af48",
   "metadata": {},
   "outputs": [],
   "source": []
  },
  {
   "cell_type": "code",
   "execution_count": null,
   "id": "894b742c",
   "metadata": {},
   "outputs": [],
   "source": []
  },
  {
   "cell_type": "code",
   "execution_count": null,
   "id": "fd8f8863",
   "metadata": {},
   "outputs": [],
   "source": []
  },
  {
   "cell_type": "code",
   "execution_count": null,
   "id": "259df82f",
   "metadata": {},
   "outputs": [],
   "source": []
  },
  {
   "cell_type": "code",
   "execution_count": null,
   "id": "dba72c19",
   "metadata": {},
   "outputs": [],
   "source": []
  },
  {
   "cell_type": "code",
   "execution_count": null,
   "id": "8a5c644f",
   "metadata": {},
   "outputs": [],
   "source": []
  },
  {
   "cell_type": "code",
   "execution_count": null,
   "id": "c880fda8",
   "metadata": {},
   "outputs": [],
   "source": []
  },
  {
   "cell_type": "code",
   "execution_count": null,
   "id": "8199f474",
   "metadata": {},
   "outputs": [],
   "source": []
  },
  {
   "cell_type": "code",
   "execution_count": null,
   "id": "f75009d5",
   "metadata": {},
   "outputs": [],
   "source": []
  },
  {
   "cell_type": "code",
   "execution_count": 13,
   "id": "b286703a",
   "metadata": {},
   "outputs": [
    {
     "name": "stdout",
     "output_type": "stream",
     "text": [
      "check\n",
      "3.166772068147594\n"
     ]
    }
   ],
   "source": [
    "viirs_quarterly_clean = ee.ImageCollection(\"NOAA/VIIRS/001/VNP46A2\") \\\n",
    "                        .filterDate(\"2014-02-15\", \"2014-05-15\") \\\n",
    "                        .select('DNB_BRDF_Corrected_NTL') \\\n",
    "                        .median() \\\n",
    "                        .mask(eog_mask)\n",
    "print('check')\n",
    "print_mean_SOL(viirs_quarterly_clean)"
   ]
  },
  {
   "cell_type": "code",
   "execution_count": null,
   "id": "d2ca0f9f",
   "metadata": {},
   "outputs": [],
   "source": []
  },
  {
   "cell_type": "code",
   "execution_count": null,
   "id": "55a2fe9f",
   "metadata": {},
   "outputs": [],
   "source": []
  },
  {
   "cell_type": "code",
   "execution_count": null,
   "id": "9911e3f1",
   "metadata": {},
   "outputs": [],
   "source": []
  },
  {
   "cell_type": "code",
   "execution_count": null,
   "id": "36ba053d",
   "metadata": {},
   "outputs": [],
   "source": []
  },
  {
   "cell_type": "code",
   "execution_count": null,
   "id": "db79f9f1",
   "metadata": {},
   "outputs": [],
   "source": []
  },
  {
   "cell_type": "code",
   "execution_count": null,
   "id": "b3b00421",
   "metadata": {},
   "outputs": [],
   "source": []
  },
  {
   "cell_type": "code",
   "execution_count": 7,
   "id": "0f567e3e",
   "metadata": {},
   "outputs": [
    {
     "name": "stdout",
     "output_type": "stream",
     "text": [
      "2.930363611429936\n"
     ]
    }
   ],
   "source": [
    "viirs_quarterly_NOMASK = ee.ImageCollection(\"NOAA/VIIRS/DNB/MONTHLY_V1/VCMSLCFG\") \\\n",
    "                        .filterDate(\"2014-05-15\", \"2014-08-15\") \\\n",
    "                        .select('avg_rad') \\\n",
    "                        .median() \\\n",
    "                        .mask(eog_mask)\n",
    "    #print('Average between ' + dates[i] + ' & ' + dates[i+1] + ':')\n",
    "print_mean_SOL(viirs_quarterly_NOMASK)"
   ]
  },
  {
   "cell_type": "code",
   "execution_count": null,
   "id": "1e01198e",
   "metadata": {},
   "outputs": [],
   "source": []
  },
  {
   "cell_type": "code",
   "execution_count": null,
   "id": "24082564",
   "metadata": {},
   "outputs": [],
   "source": []
  },
  {
   "cell_type": "code",
   "execution_count": null,
   "id": "3d9f895f",
   "metadata": {},
   "outputs": [],
   "source": []
  },
  {
   "cell_type": "code",
   "execution_count": null,
   "id": "d673dce7",
   "metadata": {},
   "outputs": [],
   "source": []
  },
  {
   "cell_type": "code",
   "execution_count": 3,
   "id": "d1658390",
   "metadata": {},
   "outputs": [
    {
     "name": "stdout",
     "output_type": "stream",
     "text": [
      "0.8309202224651786\n",
      "0.8747715846122801\n",
      "0.8194935946067913\n",
      "1.2052244797481517\n",
      "0.8736545339384783\n",
      "0.8021302474291561\n",
      "0.9128671616145454\n",
      "1.0208848280228338\n",
      "0.908879174878955\n",
      "0.8848844089516386\n",
      "1.008441238105163\n",
      "1.4216621776964002\n",
      "1.2144171876539724\n",
      "1.1843728904128987\n",
      "1.3241486869041819\n",
      "1.2779496320561066\n",
      "1.2985802883323603\n",
      "1.2768222861274656\n",
      "1.299089803026718\n",
      "1.4907542011227195\n",
      "1.375474888363225\n",
      "1.3084524082211046\n",
      "1.442269723380267\n",
      "1.5109479235240497\n",
      "1.4285631939566141\n",
      "1.4818822738233641\n",
      "done\n"
     ]
    }
   ],
   "source": [
    "for i in range (0, len(dates)-1):\n",
    "    viirs_quarterly_NOMASK = ee.ImageCollection(\"NOAA/VIIRS/DNB/MONTHLY_V1/VCMSLCFG\") \\\n",
    "                        .filterDate(dates[i], dates[i+1]) \\\n",
    "                        .select('avg_rad') \\\n",
    "                        .median() \\\n",
    "                        #.mask(eog_mask)\n",
    "    #print('Average between ' + dates[i] + ' & ' + dates[i+1] + ':')\n",
    "    print_mean_SOL(viirs_quarterly_NOMASK)\n",
    "print('done')"
   ]
  },
  {
   "cell_type": "code",
   "execution_count": null,
   "id": "ba1158ff",
   "metadata": {},
   "outputs": [],
   "source": []
  },
  {
   "cell_type": "code",
   "execution_count": null,
   "id": "8343f967",
   "metadata": {},
   "outputs": [],
   "source": []
  },
  {
   "cell_type": "code",
   "execution_count": null,
   "id": "204f4220",
   "metadata": {},
   "outputs": [],
   "source": []
  },
  {
   "cell_type": "code",
   "execution_count": null,
   "id": "d51c6285",
   "metadata": {},
   "outputs": [],
   "source": []
  },
  {
   "cell_type": "code",
   "execution_count": null,
   "id": "0f5ff60c",
   "metadata": {},
   "outputs": [],
   "source": []
  },
  {
   "cell_type": "code",
   "execution_count": null,
   "id": "51cb1e98",
   "metadata": {},
   "outputs": [],
   "source": []
  },
  {
   "cell_type": "code",
   "execution_count": null,
   "id": "1efc156c",
   "metadata": {},
   "outputs": [],
   "source": []
  },
  {
   "cell_type": "code",
   "execution_count": null,
   "id": "3d543611",
   "metadata": {},
   "outputs": [],
   "source": []
  },
  {
   "cell_type": "code",
   "execution_count": null,
   "id": "41234ffb",
   "metadata": {},
   "outputs": [],
   "source": []
  },
  {
   "cell_type": "code",
   "execution_count": null,
   "id": "ea61a6fb",
   "metadata": {},
   "outputs": [],
   "source": []
  },
  {
   "cell_type": "code",
   "execution_count": null,
   "id": "cad0a5b0",
   "metadata": {},
   "outputs": [],
   "source": []
  },
  {
   "cell_type": "code",
   "execution_count": 39,
   "id": "acd7eadf",
   "metadata": {},
   "outputs": [],
   "source": []
  },
  {
   "cell_type": "code",
   "execution_count": null,
   "id": "5ef60f66",
   "metadata": {},
   "outputs": [],
   "source": []
  },
  {
   "cell_type": "code",
   "execution_count": null,
   "id": "71a51387",
   "metadata": {},
   "outputs": [],
   "source": []
  },
  {
   "cell_type": "code",
   "execution_count": null,
   "id": "eda1d4c9",
   "metadata": {},
   "outputs": [],
   "source": []
  },
  {
   "cell_type": "code",
   "execution_count": null,
   "id": "1ecb0c9f",
   "metadata": {},
   "outputs": [],
   "source": []
  },
  {
   "cell_type": "code",
   "execution_count": null,
   "id": "4c3c51bc",
   "metadata": {},
   "outputs": [],
   "source": []
  },
  {
   "cell_type": "code",
   "execution_count": null,
   "id": "a915ee82",
   "metadata": {},
   "outputs": [],
   "source": []
  },
  {
   "cell_type": "code",
   "execution_count": null,
   "id": "914e68d1",
   "metadata": {},
   "outputs": [],
   "source": []
  },
  {
   "cell_type": "code",
   "execution_count": null,
   "id": "dadd1d94",
   "metadata": {},
   "outputs": [],
   "source": []
  },
  {
   "cell_type": "code",
   "execution_count": null,
   "id": "06a399aa",
   "metadata": {},
   "outputs": [],
   "source": []
  },
  {
   "cell_type": "code",
   "execution_count": null,
   "id": "8826549e",
   "metadata": {},
   "outputs": [],
   "source": []
  },
  {
   "cell_type": "code",
   "execution_count": null,
   "id": "6db54323",
   "metadata": {},
   "outputs": [],
   "source": []
  },
  {
   "cell_type": "code",
   "execution_count": null,
   "id": "c712a0a9",
   "metadata": {},
   "outputs": [],
   "source": []
  },
  {
   "cell_type": "code",
   "execution_count": null,
   "id": "982c9cad",
   "metadata": {},
   "outputs": [],
   "source": []
  },
  {
   "cell_type": "code",
   "execution_count": null,
   "id": "c8fd152b",
   "metadata": {},
   "outputs": [],
   "source": []
  },
  {
   "cell_type": "code",
   "execution_count": null,
   "id": "9f1fce31",
   "metadata": {},
   "outputs": [],
   "source": []
  },
  {
   "cell_type": "code",
   "execution_count": null,
   "id": "1ef16a4a",
   "metadata": {},
   "outputs": [],
   "source": []
  },
  {
   "cell_type": "code",
   "execution_count": null,
   "id": "6158fe98",
   "metadata": {},
   "outputs": [],
   "source": []
  },
  {
   "cell_type": "code",
   "execution_count": null,
   "id": "eb51d313",
   "metadata": {},
   "outputs": [],
   "source": []
  },
  {
   "cell_type": "code",
   "execution_count": null,
   "id": "58908e87",
   "metadata": {},
   "outputs": [],
   "source": []
  },
  {
   "cell_type": "code",
   "execution_count": null,
   "id": "15d5fd58",
   "metadata": {},
   "outputs": [],
   "source": []
  },
  {
   "cell_type": "code",
   "execution_count": null,
   "id": "348ea261",
   "metadata": {},
   "outputs": [],
   "source": []
  },
  {
   "cell_type": "code",
   "execution_count": null,
   "id": "994ce4b8",
   "metadata": {},
   "outputs": [],
   "source": []
  },
  {
   "cell_type": "code",
   "execution_count": null,
   "id": "d620559e",
   "metadata": {},
   "outputs": [],
   "source": []
  },
  {
   "cell_type": "code",
   "execution_count": null,
   "id": "e67ee729",
   "metadata": {},
   "outputs": [],
   "source": []
  },
  {
   "cell_type": "code",
   "execution_count": null,
   "id": "c2314b41",
   "metadata": {},
   "outputs": [],
   "source": []
  },
  {
   "cell_type": "code",
   "execution_count": null,
   "id": "79fa70dd",
   "metadata": {},
   "outputs": [],
   "source": []
  },
  {
   "cell_type": "code",
   "execution_count": null,
   "id": "dbd3ef84",
   "metadata": {},
   "outputs": [],
   "source": []
  },
  {
   "cell_type": "code",
   "execution_count": null,
   "id": "c8f57df3",
   "metadata": {},
   "outputs": [],
   "source": []
  },
  {
   "cell_type": "code",
   "execution_count": 14,
   "id": "c2d399cb",
   "metadata": {},
   "outputs": [
    {
     "name": "stdout",
     "output_type": "stream",
     "text": [
      "{'avg_rad': 5.423455522793967}\n"
     ]
    }
   ],
   "source": [
    "viirs_quarterly_clean = ee.ImageCollection(\"NOAA/VIIRS/DNB/MONTHLY_V1/VCMSLCFG\") \\\n",
    "                    .filterDate(\"2019-12-01\", \"2019-12-31\") \\\n",
    "                    .select('avg_rad').mean().mask(eog_mask)\n",
    "\n",
    "print_mean_SOL(viirs_quarterly_clean)"
   ]
  },
  {
   "cell_type": "code",
   "execution_count": null,
   "id": "165c587b",
   "metadata": {},
   "outputs": [],
   "source": [
    "viirs_quarterly_clean = ee.ImageCollection(\"NOAA/VIIRS/DNB/MONTHLY_V1/VCMSLCFG\") \\\n",
    "                    .filterDate(\"2019-12-01\", \"2019-12-31\") \\\n",
    "                    .select('avg_rad').mean().mask(eog_mask)\n",
    "\n",
    "print_mean_SOL(viirs_quarterly_clean)"
   ]
  },
  {
   "cell_type": "code",
   "execution_count": null,
   "id": "8d7880b9",
   "metadata": {},
   "outputs": [],
   "source": [
    "viirs_quarterly_clean = ee.ImageCollection(\"NOAA/VIIRS/DNB/MONTHLY_V1/VCMSLCFG\") \\\n",
    "                    .filterDate(\"2019-12-01\", \"2019-12-31\") \\\n",
    "                    .select('avg_rad').mean().mask(eog_mask)\n",
    "\n",
    "print_mean_SOL(viirs_quarterly_clean)"
   ]
  },
  {
   "cell_type": "code",
   "execution_count": null,
   "id": "6879e70a",
   "metadata": {},
   "outputs": [],
   "source": [
    "viirs_quarterly_clean = ee.ImageCollection(\"NOAA/VIIRS/DNB/MONTHLY_V1/VCMSLCFG\") \\\n",
    "                    .filterDate(\"2019-12-01\", \"2019-12-31\") \\\n",
    "                    .select('avg_rad').mean().mask(eog_mask)\n",
    "\n",
    "print_mean_SOL(viirs_quarterly_clean)"
   ]
  },
  {
   "cell_type": "code",
   "execution_count": null,
   "id": "dd86850e",
   "metadata": {},
   "outputs": [],
   "source": [
    "viirs_quarterly_clean = ee.ImageCollection(\"NOAA/VIIRS/DNB/MONTHLY_V1/VCMSLCFG\") \\\n",
    "                    .filterDate(\"2019-12-01\", \"2019-12-31\") \\\n",
    "                    .select('avg_rad').mean().mask(eog_mask)\n",
    "\n",
    "print_mean_SOL(viirs_quarterly_clean)"
   ]
  },
  {
   "cell_type": "code",
   "execution_count": null,
   "id": "7ff1f0ab",
   "metadata": {},
   "outputs": [],
   "source": [
    "viirs_quarterly_clean = ee.ImageCollection(\"NOAA/VIIRS/DNB/MONTHLY_V1/VCMSLCFG\") \\\n",
    "                    .filterDate(\"2019-12-01\", \"2019-12-31\") \\\n",
    "                    .select('avg_rad').mean().mask(eog_mask)\n",
    "\n",
    "print_mean_SOL(viirs_quarterly_clean)"
   ]
  },
  {
   "cell_type": "code",
   "execution_count": null,
   "id": "8864e26b",
   "metadata": {},
   "outputs": [],
   "source": [
    "viirs_quarterly_clean = ee.ImageCollection(\"NOAA/VIIRS/DNB/MONTHLY_V1/VCMSLCFG\") \\\n",
    "                    .filterDate(\"2019-12-01\", \"2019-12-31\") \\\n",
    "                    .select('avg_rad').mean().mask(eog_mask)\n",
    "\n",
    "print_mean_SOL(viirs_quarterly_clean)"
   ]
  },
  {
   "cell_type": "code",
   "execution_count": null,
   "id": "ec033a21",
   "metadata": {},
   "outputs": [],
   "source": [
    "viirs_quarterly_clean = ee.ImageCollection(\"NOAA/VIIRS/DNB/MONTHLY_V1/VCMSLCFG\") \\\n",
    "                    .filterDate(\"2019-12-01\", \"2019-12-31\") \\\n",
    "                    .select('avg_rad').mean().mask(eog_mask)\n",
    "\n",
    "print_mean_SOL(viirs_quarterly_clean)"
   ]
  },
  {
   "cell_type": "code",
   "execution_count": 5,
   "id": "c380959a",
   "metadata": {},
   "outputs": [],
   "source": [
    "viirs_quarterly_clean = ee.ImageCollection(\"NOAA/VIIRS/DNB/MONTHLY_V1/VCMSLCFG\") \\\n",
    "                    .filterDate(\"2019-12-01\", \"2019-12-31\") \\\n",
    "                    .select('avg_rad').mean().mask(eog_mask)\n",
    "\n",
    "print_mean_SOL(viirs_quarterly_clean)"
   ]
  },
  {
   "cell_type": "code",
   "execution_count": null,
   "id": "7da9ac12",
   "metadata": {},
   "outputs": [],
   "source": [
    "viirs_quarterly_clean = ee.ImageCollection(\"NOAA/VIIRS/DNB/MONTHLY_V1/VCMSLCFG\") \\\n",
    "                    .filterDate(\"2019-12-01\", \"2019-12-31\") \\\n",
    "                    .select('avg_rad').mean().mask(eog_mask)\n",
    "\n",
    "print_mean_SOL(viirs_quarterly_clean)"
   ]
  },
  {
   "cell_type": "code",
   "execution_count": null,
   "id": "6716adb6",
   "metadata": {},
   "outputs": [],
   "source": [
    "viirs_quarterly_clean = ee.ImageCollection(\"NOAA/VIIRS/DNB/MONTHLY_V1/VCMSLCFG\") \\\n",
    "                    .filterDate(\"2019-12-01\", \"2019-12-31\") \\\n",
    "                    .select('avg_rad').mean().mask(eog_mask)\n",
    "\n",
    "print_mean_SOL(viirs_quarterly_clean)"
   ]
  },
  {
   "cell_type": "code",
   "execution_count": null,
   "id": "4dcbf277",
   "metadata": {},
   "outputs": [],
   "source": [
    "viirs_quarterly_clean = ee.ImageCollection(\"NOAA/VIIRS/DNB/MONTHLY_V1/VCMSLCFG\") \\\n",
    "                    .filterDate(\"2019-12-01\", \"2019-12-31\") \\\n",
    "                    .select('avg_rad').mean().mask(eog_mask)\n",
    "\n",
    "print_mean_SOL(viirs_quarterly_clean)"
   ]
  },
  {
   "cell_type": "code",
   "execution_count": null,
   "id": "87004ec4",
   "metadata": {},
   "outputs": [],
   "source": [
    "viirs_quarterly_clean = ee.ImageCollection(\"NOAA/VIIRS/DNB/MONTHLY_V1/VCMSLCFG\") \\\n",
    "                    .filterDate(\"2019-12-01\", \"2019-12-31\") \\\n",
    "                    .select('avg_rad').mean().mask(eog_mask)\n",
    "\n",
    "print_mean_SOL(viirs_quarterly_clean)"
   ]
  },
  {
   "cell_type": "code",
   "execution_count": null,
   "id": "c328c016",
   "metadata": {},
   "outputs": [],
   "source": [
    "viirs_quarterly_clean = ee.ImageCollection(\"NOAA/VIIRS/DNB/MONTHLY_V1/VCMSLCFG\") \\\n",
    "                    .filterDate(\"2019-12-01\", \"2019-12-31\") \\\n",
    "                    .select('avg_rad').mean().mask(eog_mask)\n",
    "\n",
    "print_mean_SOL(viirs_quarterly_clean)"
   ]
  },
  {
   "cell_type": "code",
   "execution_count": null,
   "id": "f11ec18d",
   "metadata": {},
   "outputs": [],
   "source": [
    "viirs_quarterly_clean = ee.ImageCollection(\"NOAA/VIIRS/DNB/MONTHLY_V1/VCMSLCFG\") \\\n",
    "                    .filterDate(\"2019-12-01\", \"2019-12-31\") \\\n",
    "                    .select('avg_rad').mean().mask(eog_mask)\n",
    "\n",
    "print_mean_SOL(viirs_quarterly_clean)"
   ]
  },
  {
   "cell_type": "code",
   "execution_count": null,
   "id": "33b39596",
   "metadata": {},
   "outputs": [],
   "source": [
    "viirs_quarterly_clean = ee.ImageCollection(\"NOAA/VIIRS/DNB/MONTHLY_V1/VCMSLCFG\") \\\n",
    "                    .filterDate(\"2019-12-01\", \"2019-12-31\") \\\n",
    "                    .select('avg_rad').mean().mask(eog_mask)\n",
    "\n",
    "print_mean_SOL(viirs_quarterly_clean)"
   ]
  },
  {
   "cell_type": "code",
   "execution_count": null,
   "id": "39f790ae",
   "metadata": {},
   "outputs": [],
   "source": [
    "viirs_quarterly_clean = ee.ImageCollection(\"NOAA/VIIRS/DNB/MONTHLY_V1/VCMSLCFG\") \\\n",
    "                    .filterDate(\"2019-12-01\", \"2019-12-31\") \\\n",
    "                    .select('avg_rad').mean().mask(eog_mask)\n",
    "\n",
    "print_mean_SOL(viirs_quarterly_clean)"
   ]
  },
  {
   "cell_type": "code",
   "execution_count": null,
   "id": "8bc95247",
   "metadata": {},
   "outputs": [],
   "source": [
    "viirs_quarterly_clean = ee.ImageCollection(\"NOAA/VIIRS/DNB/MONTHLY_V1/VCMSLCFG\") \\\n",
    "                    .filterDate(\"2019-12-01\", \"2019-12-31\") \\\n",
    "                    .select('avg_rad').mean().mask(eog_mask)\n",
    "\n",
    "print_mean_SOL(viirs_quarterly_clean)"
   ]
  },
  {
   "cell_type": "code",
   "execution_count": null,
   "id": "5883d4bd",
   "metadata": {},
   "outputs": [],
   "source": [
    "viirs_quarterly_clean = ee.ImageCollection(\"NOAA/VIIRS/DNB/MONTHLY_V1/VCMSLCFG\") \\\n",
    "                    .filterDate(\"2019-12-01\", \"2019-12-31\") \\\n",
    "                    .select('avg_rad').mean().mask(eog_mask)\n",
    "\n",
    "print_mean_SOL(viirs_quarterly_clean)"
   ]
  },
  {
   "cell_type": "code",
   "execution_count": null,
   "id": "90e46784",
   "metadata": {},
   "outputs": [],
   "source": [
    "viirs_quarterly_clean = ee.ImageCollection(\"NOAA/VIIRS/DNB/MONTHLY_V1/VCMSLCFG\") \\\n",
    "                    .filterDate(\"2019-12-01\", \"2019-12-31\") \\\n",
    "                    .select('avg_rad').mean().mask(eog_mask)\n",
    "\n",
    "print_mean_SOL(viirs_quarterly_clean)"
   ]
  },
  {
   "cell_type": "code",
   "execution_count": null,
   "id": "ee3cb9c0",
   "metadata": {},
   "outputs": [],
   "source": [
    "viirs_quarterly_clean = ee.ImageCollection(\"NOAA/VIIRS/DNB/MONTHLY_V1/VCMSLCFG\") \\\n",
    "                    .filterDate(\"2019-12-01\", \"2019-12-31\") \\\n",
    "                    .select('avg_rad').mean().mask(eog_mask)\n",
    "\n",
    "print_mean_SOL(viirs_quarterly_clean)"
   ]
  },
  {
   "cell_type": "code",
   "execution_count": null,
   "id": "275b685d",
   "metadata": {},
   "outputs": [],
   "source": [
    "viirs_quarterly_clean = ee.ImageCollection(\"NOAA/VIIRS/DNB/MONTHLY_V1/VCMSLCFG\") \\\n",
    "                    .filterDate(\"2019-12-01\", \"2019-12-31\") \\\n",
    "                    .select('avg_rad').mean().mask(eog_mask)\n",
    "\n",
    "print_mean_SOL(viirs_quarterly_clean)"
   ]
  },
  {
   "cell_type": "code",
   "execution_count": null,
   "id": "da3714dd",
   "metadata": {},
   "outputs": [],
   "source": [
    "viirs_quarterly_clean = ee.ImageCollection(\"NOAA/VIIRS/DNB/MONTHLY_V1/VCMSLCFG\") \\\n",
    "                    .filterDate(\"2019-12-01\", \"2019-12-31\") \\\n",
    "                    .select('avg_rad').mean().mask(eog_mask)\n",
    "\n",
    "print_mean_SOL(viirs_quarterly_clean)"
   ]
  },
  {
   "cell_type": "code",
   "execution_count": null,
   "id": "ddf4f76f",
   "metadata": {},
   "outputs": [],
   "source": [
    "viirs_quarterly_clean = ee.ImageCollection(\"NOAA/VIIRS/DNB/MONTHLY_V1/VCMSLCFG\") \\\n",
    "                    .filterDate(\"2019-12-01\", \"2019-12-31\") \\\n",
    "                    .select('avg_rad').mean().mask(eog_mask)\n",
    "\n",
    "print_mean_SOL(viirs_quarterly_clean)"
   ]
  },
  {
   "cell_type": "code",
   "execution_count": null,
   "id": "2339c32c",
   "metadata": {},
   "outputs": [],
   "source": [
    "viirs_quarterly_clean = ee.ImageCollection(\"NOAA/VIIRS/DNB/MONTHLY_V1/VCMSLCFG\") \\\n",
    "                    .filterDate(\"2019-12-01\", \"2019-12-31\") \\\n",
    "                    .select('avg_rad').mean().mask(eog_mask)\n",
    "\n",
    "print_mean_SOL(viirs_quarterly_clean)"
   ]
  },
  {
   "cell_type": "code",
   "execution_count": null,
   "id": "0762e05a",
   "metadata": {},
   "outputs": [],
   "source": [
    "viirs_quarterly_clean = ee.ImageCollection(\"NOAA/VIIRS/DNB/MONTHLY_V1/VCMSLCFG\") \\\n",
    "                    .filterDate(\"2019-12-01\", \"2019-12-31\") \\\n",
    "                    .select('avg_rad').mean().mask(eog_mask)\n",
    "\n",
    "print_mean_SOL(viirs_quarterly_clean)"
   ]
  },
  {
   "cell_type": "code",
   "execution_count": null,
   "id": "873783a1",
   "metadata": {},
   "outputs": [],
   "source": [
    "viirs_quarterly_clean = ee.ImageCollection(\"NOAA/VIIRS/DNB/MONTHLY_V1/VCMSLCFG\") \\\n",
    "                    .filterDate(\"2019-12-01\", \"2019-12-31\") \\\n",
    "                    .select('avg_rad').mean().mask(eog_mask)\n",
    "\n",
    "print_mean_SOL(viirs_quarterly_clean)"
   ]
  },
  {
   "cell_type": "code",
   "execution_count": null,
   "id": "1e2c7b5d",
   "metadata": {},
   "outputs": [],
   "source": [
    "viirs_quarterly_clean = ee.ImageCollection(\"NOAA/VIIRS/DNB/MONTHLY_V1/VCMSLCFG\") \\\n",
    "                    .filterDate(\"2019-12-01\", \"2019-12-31\") \\\n",
    "                    .select('avg_rad').mean().mask(eog_mask)\n",
    "\n",
    "print_mean_SOL(viirs_quarterly_clean)"
   ]
  },
  {
   "cell_type": "code",
   "execution_count": null,
   "id": "94000584",
   "metadata": {},
   "outputs": [],
   "source": [
    "viirs_quarterly_clean = ee.ImageCollection(\"NOAA/VIIRS/DNB/MONTHLY_V1/VCMSLCFG\") \\\n",
    "                    .filterDate(\"2019-12-01\", \"2019-12-31\") \\\n",
    "                    .select('avg_rad').mean().mask(eog_mask)\n",
    "\n",
    "print_mean_SOL(viirs_quarterly_clean)"
   ]
  },
  {
   "cell_type": "code",
   "execution_count": null,
   "id": "e1381ac2",
   "metadata": {},
   "outputs": [],
   "source": [
    "viirs_quarterly_clean = ee.ImageCollection(\"NOAA/VIIRS/DNB/MONTHLY_V1/VCMSLCFG\") \\\n",
    "                    .filterDate(\"2019-12-01\", \"2019-12-31\") \\\n",
    "                    .select('avg_rad').mean().mask(eog_mask)\n",
    "\n",
    "print_mean_SOL(viirs_quarterly_clean)"
   ]
  },
  {
   "cell_type": "code",
   "execution_count": null,
   "id": "bf517fcd",
   "metadata": {},
   "outputs": [],
   "source": [
    "viirs_quarterly_clean = ee.ImageCollection(\"NOAA/VIIRS/DNB/MONTHLY_V1/VCMSLCFG\") \\\n",
    "                    .filterDate(\"2019-12-01\", \"2019-12-31\") \\\n",
    "                    .select('avg_rad').mean().mask(eog_mask)\n",
    "\n",
    "print_mean_SOL(viirs_quarterly_clean)"
   ]
  },
  {
   "cell_type": "code",
   "execution_count": null,
   "id": "d557cd84",
   "metadata": {},
   "outputs": [],
   "source": [
    "viirs_quarterly_clean = ee.ImageCollection(\"NOAA/VIIRS/DNB/MONTHLY_V1/VCMSLCFG\") \\\n",
    "                    .filterDate(\"2019-12-01\", \"2019-12-31\") \\\n",
    "                    .select('avg_rad').mean().mask(eog_mask)\n",
    "\n",
    "print_mean_SOL(viirs_quarterly_clean)"
   ]
  },
  {
   "cell_type": "code",
   "execution_count": null,
   "id": "b6ca1c0c",
   "metadata": {},
   "outputs": [],
   "source": [
    "viirs_quarterly_clean = ee.ImageCollection(\"NOAA/VIIRS/DNB/MONTHLY_V1/VCMSLCFG\") \\\n",
    "                    .filterDate(\"2019-12-01\", \"2019-12-31\") \\\n",
    "                    .select('avg_rad').mean().mask(eog_mask)\n",
    "\n",
    "print_mean_SOL(viirs_quarterly_clean)"
   ]
  },
  {
   "cell_type": "code",
   "execution_count": null,
   "id": "d9165c9c",
   "metadata": {},
   "outputs": [],
   "source": [
    "viirs_quarterly_clean = ee.ImageCollection(\"NOAA/VIIRS/DNB/MONTHLY_V1/VCMSLCFG\") \\\n",
    "                    .filterDate(\"2019-12-01\", \"2019-12-31\") \\\n",
    "                    .select('avg_rad').mean().mask(eog_mask)\n",
    "\n",
    "print_mean_SOL(viirs_quarterly_clean)"
   ]
  },
  {
   "cell_type": "code",
   "execution_count": null,
   "id": "d706bbca",
   "metadata": {},
   "outputs": [],
   "source": [
    "viirs_quarterly_clean = ee.ImageCollection(\"NOAA/VIIRS/DNB/MONTHLY_V1/VCMSLCFG\") \\\n",
    "                    .filterDate(\"2019-12-01\", \"2019-12-31\") \\\n",
    "                    .select('avg_rad').mean().mask(eog_mask)\n",
    "\n",
    "print_mean_SOL(viirs_quarterly_clean)"
   ]
  },
  {
   "cell_type": "code",
   "execution_count": null,
   "id": "950edaa1",
   "metadata": {},
   "outputs": [],
   "source": [
    "viirs_quarterly_clean = ee.ImageCollection(\"NOAA/VIIRS/DNB/MONTHLY_V1/VCMSLCFG\") \\\n",
    "                    .filterDate(\"2019-12-01\", \"2019-12-31\") \\\n",
    "                    .select('avg_rad').mean().mask(eog_mask)\n",
    "\n",
    "print_mean_SOL(viirs_quarterly_clean)"
   ]
  },
  {
   "cell_type": "code",
   "execution_count": null,
   "id": "3ba60456",
   "metadata": {},
   "outputs": [],
   "source": [
    "viirs_quarterly_clean = ee.ImageCollection(\"NOAA/VIIRS/DNB/MONTHLY_V1/VCMSLCFG\") \\\n",
    "                    .filterDate(\"2019-12-01\", \"2019-12-31\") \\\n",
    "                    .select('avg_rad').mean().mask(eog_mask)\n",
    "\n",
    "print_mean_SOL(viirs_quarterly_clean)"
   ]
  },
  {
   "cell_type": "code",
   "execution_count": null,
   "id": "7c538d05",
   "metadata": {},
   "outputs": [],
   "source": [
    "viirs_quarterly_clean = ee.ImageCollection(\"NOAA/VIIRS/DNB/MONTHLY_V1/VCMSLCFG\") \\\n",
    "                    .filterDate(\"2019-12-01\", \"2019-12-31\") \\\n",
    "                    .select('avg_rad').mean().mask(eog_mask)\n",
    "\n",
    "print_mean_SOL(viirs_quarterly_clean)"
   ]
  },
  {
   "cell_type": "code",
   "execution_count": null,
   "id": "38ce71e7",
   "metadata": {},
   "outputs": [],
   "source": [
    "viirs_quarterly_clean = ee.ImageCollection(\"NOAA/VIIRS/DNB/MONTHLY_V1/VCMSLCFG\") \\\n",
    "                    .filterDate(\"2019-12-01\", \"2019-12-31\") \\\n",
    "                    .select('avg_rad').mean().mask(eog_mask)\n",
    "\n",
    "print_mean_SOL(viirs_quarterly_clean)"
   ]
  },
  {
   "cell_type": "code",
   "execution_count": null,
   "id": "3e9eefab",
   "metadata": {},
   "outputs": [],
   "source": [
    "viirs_quarterly_clean = ee.ImageCollection(\"NOAA/VIIRS/DNB/MONTHLY_V1/VCMSLCFG\") \\\n",
    "                    .filterDate(\"2019-12-01\", \"2019-12-31\") \\\n",
    "                    .select('avg_rad').mean().mask(eog_mask)\n",
    "\n",
    "print_mean_SOL(viirs_quarterly_clean)"
   ]
  }
 ],
 "metadata": {
  "kernelspec": {
   "display_name": "Python 3 (ipykernel)",
   "language": "python",
   "name": "python3"
  },
  "language_info": {
   "codemirror_mode": {
    "name": "ipython",
    "version": 3
   },
   "file_extension": ".py",
   "mimetype": "text/x-python",
   "name": "python",
   "nbconvert_exporter": "python",
   "pygments_lexer": "ipython3",
   "version": "3.9.16"
  }
 },
 "nbformat": 4,
 "nbformat_minor": 5
}
